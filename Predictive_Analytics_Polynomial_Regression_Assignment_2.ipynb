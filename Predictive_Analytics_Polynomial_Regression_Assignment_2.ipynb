{
  "nbformat": 4,
  "nbformat_minor": 0,
  "metadata": {
    "colab": {
      "provenance": []
    },
    "kernelspec": {
      "name": "python3",
      "display_name": "Python 3"
    },
    "language_info": {
      "name": "python"
    }
  },
  "cells": [
    {
      "cell_type": "markdown",
      "source": [
        "# Problem Description:\n",
        "A Human Resource company needs to determine the salary for a new job position being created. They only have access to a salary dataset for the company, which includes salary information for the top 10 positions along with their corresponding levels. The task is to assist HR in deciding the appropriate salary if the new position falls between levels 7 and 8.\n",
        "\n",
        "Data Set: **Position_Salaries.csv**\n",
        "Rules: You are restricted from utilizing the sklearn library.You are limited to using only the libraries provided.\n",
        "\n",
        "Reference : https://www.javatpoint.com/machine-learning-polynomial-regression\n",
        "\n",
        " https://www.kaggle.com/code/omkarsantoshraut/polynomial-regression"
      ],
      "metadata": {
        "id": "AtzSquaQnaBD"
      }
    },
    {
      "cell_type": "code",
      "source": [
        "import numpy as np\n",
        "import matplotlib.pyplot as plt\n",
        "import pandas as pd\n",
        "import seaborn as sns"
      ],
      "metadata": {
        "id": "1tJn4PzWnZtz"
      },
      "execution_count": null,
      "outputs": []
    },
    {
      "cell_type": "markdown",
      "source": [
        "## Exploratory data analysis"
      ],
      "metadata": {
        "id": "pDonG1iOtiCP"
      }
    },
    {
      "cell_type": "code",
      "execution_count": null,
      "metadata": {
        "id": "BUFCZbfRlfzi",
        "colab": {
          "base_uri": "https://localhost:8080/",
          "height": 363
        },
        "outputId": "f09fe60d-408a-4591-ca83-4ac2b3679beb"
      },
      "outputs": [
        {
          "output_type": "execute_result",
          "data": {
            "text/plain": [
              "            Position  Level   Salary\n",
              "0   Business Analyst      1    45000\n",
              "1  Junior Consultant      2    50000\n",
              "2  Senior Consultant      3    60000\n",
              "3            Manager      4    80000\n",
              "4    Country Manager      5   110000\n",
              "5     Region Manager      6   150000\n",
              "6            Partner      7   200000\n",
              "7     Senior Partner      8   300000\n",
              "8            C-level      9   500000\n",
              "9                CEO     10  1000000"
            ],
            "text/html": [
              "\n",
              "  <div id=\"df-b86168c5-57cf-4203-b861-f1c6ee179cbb\" class=\"colab-df-container\">\n",
              "    <div>\n",
              "<style scoped>\n",
              "    .dataframe tbody tr th:only-of-type {\n",
              "        vertical-align: middle;\n",
              "    }\n",
              "\n",
              "    .dataframe tbody tr th {\n",
              "        vertical-align: top;\n",
              "    }\n",
              "\n",
              "    .dataframe thead th {\n",
              "        text-align: right;\n",
              "    }\n",
              "</style>\n",
              "<table border=\"1\" class=\"dataframe\">\n",
              "  <thead>\n",
              "    <tr style=\"text-align: right;\">\n",
              "      <th></th>\n",
              "      <th>Position</th>\n",
              "      <th>Level</th>\n",
              "      <th>Salary</th>\n",
              "    </tr>\n",
              "  </thead>\n",
              "  <tbody>\n",
              "    <tr>\n",
              "      <th>0</th>\n",
              "      <td>Business Analyst</td>\n",
              "      <td>1</td>\n",
              "      <td>45000</td>\n",
              "    </tr>\n",
              "    <tr>\n",
              "      <th>1</th>\n",
              "      <td>Junior Consultant</td>\n",
              "      <td>2</td>\n",
              "      <td>50000</td>\n",
              "    </tr>\n",
              "    <tr>\n",
              "      <th>2</th>\n",
              "      <td>Senior Consultant</td>\n",
              "      <td>3</td>\n",
              "      <td>60000</td>\n",
              "    </tr>\n",
              "    <tr>\n",
              "      <th>3</th>\n",
              "      <td>Manager</td>\n",
              "      <td>4</td>\n",
              "      <td>80000</td>\n",
              "    </tr>\n",
              "    <tr>\n",
              "      <th>4</th>\n",
              "      <td>Country Manager</td>\n",
              "      <td>5</td>\n",
              "      <td>110000</td>\n",
              "    </tr>\n",
              "    <tr>\n",
              "      <th>5</th>\n",
              "      <td>Region Manager</td>\n",
              "      <td>6</td>\n",
              "      <td>150000</td>\n",
              "    </tr>\n",
              "    <tr>\n",
              "      <th>6</th>\n",
              "      <td>Partner</td>\n",
              "      <td>7</td>\n",
              "      <td>200000</td>\n",
              "    </tr>\n",
              "    <tr>\n",
              "      <th>7</th>\n",
              "      <td>Senior Partner</td>\n",
              "      <td>8</td>\n",
              "      <td>300000</td>\n",
              "    </tr>\n",
              "    <tr>\n",
              "      <th>8</th>\n",
              "      <td>C-level</td>\n",
              "      <td>9</td>\n",
              "      <td>500000</td>\n",
              "    </tr>\n",
              "    <tr>\n",
              "      <th>9</th>\n",
              "      <td>CEO</td>\n",
              "      <td>10</td>\n",
              "      <td>1000000</td>\n",
              "    </tr>\n",
              "  </tbody>\n",
              "</table>\n",
              "</div>\n",
              "    <div class=\"colab-df-buttons\">\n",
              "\n",
              "  <div class=\"colab-df-container\">\n",
              "    <button class=\"colab-df-convert\" onclick=\"convertToInteractive('df-b86168c5-57cf-4203-b861-f1c6ee179cbb')\"\n",
              "            title=\"Convert this dataframe to an interactive table.\"\n",
              "            style=\"display:none;\">\n",
              "\n",
              "  <svg xmlns=\"http://www.w3.org/2000/svg\" height=\"24px\" viewBox=\"0 -960 960 960\">\n",
              "    <path d=\"M120-120v-720h720v720H120Zm60-500h600v-160H180v160Zm220 220h160v-160H400v160Zm0 220h160v-160H400v160ZM180-400h160v-160H180v160Zm440 0h160v-160H620v160ZM180-180h160v-160H180v160Zm440 0h160v-160H620v160Z\"/>\n",
              "  </svg>\n",
              "    </button>\n",
              "\n",
              "  <style>\n",
              "    .colab-df-container {\n",
              "      display:flex;\n",
              "      gap: 12px;\n",
              "    }\n",
              "\n",
              "    .colab-df-convert {\n",
              "      background-color: #E8F0FE;\n",
              "      border: none;\n",
              "      border-radius: 50%;\n",
              "      cursor: pointer;\n",
              "      display: none;\n",
              "      fill: #1967D2;\n",
              "      height: 32px;\n",
              "      padding: 0 0 0 0;\n",
              "      width: 32px;\n",
              "    }\n",
              "\n",
              "    .colab-df-convert:hover {\n",
              "      background-color: #E2EBFA;\n",
              "      box-shadow: 0px 1px 2px rgba(60, 64, 67, 0.3), 0px 1px 3px 1px rgba(60, 64, 67, 0.15);\n",
              "      fill: #174EA6;\n",
              "    }\n",
              "\n",
              "    .colab-df-buttons div {\n",
              "      margin-bottom: 4px;\n",
              "    }\n",
              "\n",
              "    [theme=dark] .colab-df-convert {\n",
              "      background-color: #3B4455;\n",
              "      fill: #D2E3FC;\n",
              "    }\n",
              "\n",
              "    [theme=dark] .colab-df-convert:hover {\n",
              "      background-color: #434B5C;\n",
              "      box-shadow: 0px 1px 3px 1px rgba(0, 0, 0, 0.15);\n",
              "      filter: drop-shadow(0px 1px 2px rgba(0, 0, 0, 0.3));\n",
              "      fill: #FFFFFF;\n",
              "    }\n",
              "  </style>\n",
              "\n",
              "    <script>\n",
              "      const buttonEl =\n",
              "        document.querySelector('#df-b86168c5-57cf-4203-b861-f1c6ee179cbb button.colab-df-convert');\n",
              "      buttonEl.style.display =\n",
              "        google.colab.kernel.accessAllowed ? 'block' : 'none';\n",
              "\n",
              "      async function convertToInteractive(key) {\n",
              "        const element = document.querySelector('#df-b86168c5-57cf-4203-b861-f1c6ee179cbb');\n",
              "        const dataTable =\n",
              "          await google.colab.kernel.invokeFunction('convertToInteractive',\n",
              "                                                    [key], {});\n",
              "        if (!dataTable) return;\n",
              "\n",
              "        const docLinkHtml = 'Like what you see? Visit the ' +\n",
              "          '<a target=\"_blank\" href=https://colab.research.google.com/notebooks/data_table.ipynb>data table notebook</a>'\n",
              "          + ' to learn more about interactive tables.';\n",
              "        element.innerHTML = '';\n",
              "        dataTable['output_type'] = 'display_data';\n",
              "        await google.colab.output.renderOutput(dataTable, element);\n",
              "        const docLink = document.createElement('div');\n",
              "        docLink.innerHTML = docLinkHtml;\n",
              "        element.appendChild(docLink);\n",
              "      }\n",
              "    </script>\n",
              "  </div>\n",
              "\n",
              "\n",
              "<div id=\"df-d203c9d6-c8ea-4b45-9fef-cdda14a6787e\">\n",
              "  <button class=\"colab-df-quickchart\" onclick=\"quickchart('df-d203c9d6-c8ea-4b45-9fef-cdda14a6787e')\"\n",
              "            title=\"Suggest charts\"\n",
              "            style=\"display:none;\">\n",
              "\n",
              "<svg xmlns=\"http://www.w3.org/2000/svg\" height=\"24px\"viewBox=\"0 0 24 24\"\n",
              "     width=\"24px\">\n",
              "    <g>\n",
              "        <path d=\"M19 3H5c-1.1 0-2 .9-2 2v14c0 1.1.9 2 2 2h14c1.1 0 2-.9 2-2V5c0-1.1-.9-2-2-2zM9 17H7v-7h2v7zm4 0h-2V7h2v10zm4 0h-2v-4h2v4z\"/>\n",
              "    </g>\n",
              "</svg>\n",
              "  </button>\n",
              "\n",
              "<style>\n",
              "  .colab-df-quickchart {\n",
              "      --bg-color: #E8F0FE;\n",
              "      --fill-color: #1967D2;\n",
              "      --hover-bg-color: #E2EBFA;\n",
              "      --hover-fill-color: #174EA6;\n",
              "      --disabled-fill-color: #AAA;\n",
              "      --disabled-bg-color: #DDD;\n",
              "  }\n",
              "\n",
              "  [theme=dark] .colab-df-quickchart {\n",
              "      --bg-color: #3B4455;\n",
              "      --fill-color: #D2E3FC;\n",
              "      --hover-bg-color: #434B5C;\n",
              "      --hover-fill-color: #FFFFFF;\n",
              "      --disabled-bg-color: #3B4455;\n",
              "      --disabled-fill-color: #666;\n",
              "  }\n",
              "\n",
              "  .colab-df-quickchart {\n",
              "    background-color: var(--bg-color);\n",
              "    border: none;\n",
              "    border-radius: 50%;\n",
              "    cursor: pointer;\n",
              "    display: none;\n",
              "    fill: var(--fill-color);\n",
              "    height: 32px;\n",
              "    padding: 0;\n",
              "    width: 32px;\n",
              "  }\n",
              "\n",
              "  .colab-df-quickchart:hover {\n",
              "    background-color: var(--hover-bg-color);\n",
              "    box-shadow: 0 1px 2px rgba(60, 64, 67, 0.3), 0 1px 3px 1px rgba(60, 64, 67, 0.15);\n",
              "    fill: var(--button-hover-fill-color);\n",
              "  }\n",
              "\n",
              "  .colab-df-quickchart-complete:disabled,\n",
              "  .colab-df-quickchart-complete:disabled:hover {\n",
              "    background-color: var(--disabled-bg-color);\n",
              "    fill: var(--disabled-fill-color);\n",
              "    box-shadow: none;\n",
              "  }\n",
              "\n",
              "  .colab-df-spinner {\n",
              "    border: 2px solid var(--fill-color);\n",
              "    border-color: transparent;\n",
              "    border-bottom-color: var(--fill-color);\n",
              "    animation:\n",
              "      spin 1s steps(1) infinite;\n",
              "  }\n",
              "\n",
              "  @keyframes spin {\n",
              "    0% {\n",
              "      border-color: transparent;\n",
              "      border-bottom-color: var(--fill-color);\n",
              "      border-left-color: var(--fill-color);\n",
              "    }\n",
              "    20% {\n",
              "      border-color: transparent;\n",
              "      border-left-color: var(--fill-color);\n",
              "      border-top-color: var(--fill-color);\n",
              "    }\n",
              "    30% {\n",
              "      border-color: transparent;\n",
              "      border-left-color: var(--fill-color);\n",
              "      border-top-color: var(--fill-color);\n",
              "      border-right-color: var(--fill-color);\n",
              "    }\n",
              "    40% {\n",
              "      border-color: transparent;\n",
              "      border-right-color: var(--fill-color);\n",
              "      border-top-color: var(--fill-color);\n",
              "    }\n",
              "    60% {\n",
              "      border-color: transparent;\n",
              "      border-right-color: var(--fill-color);\n",
              "    }\n",
              "    80% {\n",
              "      border-color: transparent;\n",
              "      border-right-color: var(--fill-color);\n",
              "      border-bottom-color: var(--fill-color);\n",
              "    }\n",
              "    90% {\n",
              "      border-color: transparent;\n",
              "      border-bottom-color: var(--fill-color);\n",
              "    }\n",
              "  }\n",
              "</style>\n",
              "\n",
              "  <script>\n",
              "    async function quickchart(key) {\n",
              "      const quickchartButtonEl =\n",
              "        document.querySelector('#' + key + ' button');\n",
              "      quickchartButtonEl.disabled = true;  // To prevent multiple clicks.\n",
              "      quickchartButtonEl.classList.add('colab-df-spinner');\n",
              "      try {\n",
              "        const charts = await google.colab.kernel.invokeFunction(\n",
              "            'suggestCharts', [key], {});\n",
              "      } catch (error) {\n",
              "        console.error('Error during call to suggestCharts:', error);\n",
              "      }\n",
              "      quickchartButtonEl.classList.remove('colab-df-spinner');\n",
              "      quickchartButtonEl.classList.add('colab-df-quickchart-complete');\n",
              "    }\n",
              "    (() => {\n",
              "      let quickchartButtonEl =\n",
              "        document.querySelector('#df-d203c9d6-c8ea-4b45-9fef-cdda14a6787e button');\n",
              "      quickchartButtonEl.style.display =\n",
              "        google.colab.kernel.accessAllowed ? 'block' : 'none';\n",
              "    })();\n",
              "  </script>\n",
              "</div>\n",
              "\n",
              "    </div>\n",
              "  </div>\n"
            ],
            "application/vnd.google.colaboratory.intrinsic+json": {
              "type": "dataframe",
              "variable_name": "Salary_Info",
              "summary": "{\n  \"name\": \"Salary_Info\",\n  \"rows\": 10,\n  \"fields\": [\n    {\n      \"column\": \"Position\",\n      \"properties\": {\n        \"dtype\": \"string\",\n        \"num_unique_values\": 10,\n        \"samples\": [\n          \"C-level\",\n          \"Junior Consultant\",\n          \"Region Manager\"\n        ],\n        \"semantic_type\": \"\",\n        \"description\": \"\"\n      }\n    },\n    {\n      \"column\": \"Level\",\n      \"properties\": {\n        \"dtype\": \"number\",\n        \"std\": 3,\n        \"min\": 1,\n        \"max\": 10,\n        \"num_unique_values\": 10,\n        \"samples\": [\n          9,\n          2,\n          6\n        ],\n        \"semantic_type\": \"\",\n        \"description\": \"\"\n      }\n    },\n    {\n      \"column\": \"Salary\",\n      \"properties\": {\n        \"dtype\": \"number\",\n        \"std\": 299373,\n        \"min\": 45000,\n        \"max\": 1000000,\n        \"num_unique_values\": 10,\n        \"samples\": [\n          500000,\n          50000,\n          150000\n        ],\n        \"semantic_type\": \"\",\n        \"description\": \"\"\n      }\n    }\n  ]\n}"
            }
          },
          "metadata": {},
          "execution_count": 112
        }
      ],
      "source": [
        "Salary_Info = pd.read_csv(\"Position_Salaries.csv\")\n",
        "Salary_Info.head(10)"
      ]
    },
    {
      "cell_type": "code",
      "source": [
        "Position_Level = Salary_Info['Level'].values\n",
        "Level_Salary = Salary_Info['Salary'].values\n",
        "print(Position_Level); print(Level_Salary)"
      ],
      "metadata": {
        "colab": {
          "base_uri": "https://localhost:8080/"
        },
        "id": "GlQYm0Sl9aZP",
        "outputId": "dbb31ec0-9b82-47fd-8ae3-c0a5d2138b98"
      },
      "execution_count": null,
      "outputs": [
        {
          "output_type": "stream",
          "name": "stdout",
          "text": [
            "[ 1  2  3  4  5  6  7  8  9 10]\n",
            "[  45000   50000   60000   80000  110000  150000  200000  300000  500000\n",
            " 1000000]\n"
          ]
        }
      ]
    },
    {
      "cell_type": "code",
      "source": [
        "plt.scatter(Position_Level, Level_Salary, color = 'Lightcoral', marker = '*', s = 100, alpha = 0.8)\n",
        "plt.xlabel('Job Level')\n",
        "plt.ylabel('Salaries')\n",
        "plt.show()"
      ],
      "metadata": {
        "colab": {
          "base_uri": "https://localhost:8080/",
          "height": 465
        },
        "id": "lbMsXjl6-C56",
        "outputId": "70ae63c3-9195-4644-a3cb-7c2c43ba1303"
      },
      "execution_count": null,
      "outputs": [
        {
          "output_type": "display_data",
          "data": {
            "text/plain": [
              "<Figure size 640x480 with 1 Axes>"
            ],
            "image/png": "[encoded data removed]"
          },
          "metadata": {}
        }
      ]
    },
    {
      "cell_type": "markdown",
      "source": [
        "### Based on the exploratory data analysis, answer the following\n",
        "\n",
        "\n",
        "* Can you use a simple linear regression model to fit this data (Yes/No)?\n",
        "> As we can observe from the plot presented above, it's evident that the data points deviate noticeably from a linear pattern. This implies that a simple linear regression model may not be suitable because the regression line is likely to be distant from the data points.\n",
        "* If you use a simple linear model to fit this data, will it fit well (Yes/No)?\n",
        "> No, as we have observed above, the regression line will be distant from the data points making the simple linear model unsuitable.\n",
        "* Explain why you said yes or no to the above questions.\n",
        "> Given the plot, it's apparent the data doesn't follow a linear pattern, suggesting a simple linear regression model will not be appropriate.\n",
        "\n"
      ],
      "metadata": {
        "id": "mvaBWQfAtpp-"
      }
    },
    {
      "cell_type": "markdown",
      "source": [
        "## Polynomial Regression\n",
        "\n",
        "**Construct a second order Model:** $$\\;\\;\\;\\;\n",
        "\\hat y = w_1 x_1^2 + w_2x_1 + b\n",
        "$$\n",
        "\n",
        "**Construct a Cost function:**\n",
        "$$MSE(w_1,w_2,b)= your\\;answer$$"
      ],
      "metadata": {
        "id": "exOvj2CxFelv"
      }
    },
    {
      "cell_type": "code",
      "source": [
        "w = 1000\n",
        "b = 2000\n",
        "c = 1000\n",
        "x = Position_Level\n",
        "y = Level_Salary\n",
        "N = x.size"
      ],
      "metadata": {
        "id": "Da1vxqoEyL-W"
      },
      "execution_count": null,
      "outputs": []
    },
    {
      "cell_type": "code",
      "source": [
        "w_values = np.linspace(1000, 15000, 1000)\n",
        "c_values = np.linspace(1000, 15000, 1000)"
      ],
      "metadata": {
        "id": "_YLpLE70IwHZ"
      },
      "execution_count": null,
      "outputs": []
    },
    {
      "cell_type": "code",
      "source": [
        "MSE = np.empty((len(w_values), len(c_values)))\n",
        "for i in range(len(w_values)):\n",
        "    for j in range(len(c_values)):\n",
        "        MSE[i, j] = 1/N * np.sum((((c_values[j] * x * x) + (w_values[i] * x) + b) - y) ** 2)"
      ],
      "metadata": {
        "id": "hgIZQGu_HAfv"
      },
      "execution_count": null,
      "outputs": []
    },
    {
      "cell_type": "code",
      "source": [
        "min_indices = np.unravel_index(np.argmin(MSE), MSE.shape)\n",
        "optimal_w = w_values[min_indices[0]]\n",
        "optimal_c = c_values[min_indices[1]]\n",
        "x1 = x[0]\n",
        "y1 = y[0]\n",
        "optimal_b = y1 - optimal_c * x1 * x1 - optimal_w * x1"
      ],
      "metadata": {
        "id": "gpI67LokHFfT"
      },
      "execution_count": null,
      "outputs": []
    },
    {
      "cell_type": "code",
      "source": [
        "plt.plot(w_values, MSE[min_indices[0], :], label = 'Mean Squared Error (MSE)', color = 'Lightcoral')\n",
        "plt.xlabel('w')\n",
        "plt.ylabel('Mean Squared Error')\n",
        "plt.title('Cost Function')\n",
        "plt.legend()\n",
        "plt.show()"
      ],
      "metadata": {
        "colab": {
          "base_uri": "https://localhost:8080/",
          "height": 472
        },
        "id": "uAXddUfHHL7n",
        "outputId": "e802a073-4b54-436e-875f-03114e1b82b1"
      },
      "execution_count": null,
      "outputs": [
        {
          "output_type": "display_data",
          "data": {
            "text/plain": [
              "<Figure size 640x480 with 1 Axes>"
            ],
            "image/png": "[encoded data removed]"
          },
          "metadata": {}
        }
      ]
    },
    {
      "cell_type": "markdown",
      "source": [
        "\n",
        "* Can you use mean squared error as the cost function (Yes/No)?\n",
        "> Yes, we can use mean squared error as the cost function as it provides us with a measure of how incorrect the model is by calculating the average squared differences between the predicted values & actual values.\n",
        "* Explain why you said yes or no to the above questions.\n",
        "> As explained above, MSE makes a suitable choice for evaluating the performance of regression models, including polynomial regression."
      ],
      "metadata": {
        "id": "2aQT57RJySAu"
      }
    },
    {
      "cell_type": "markdown",
      "source": [
        "\n",
        "\n",
        "**Derivatives of cost function:**\n",
        "1. Derivative with respect to 𝑤 :\n",
        "\n",
        "$$ \\frac{\\partial \\text{MSE}}{\\partial w} = \\frac{2}{N} \\sum_{i=0}^{N} (x_i(cx_i^2 + wx_i + b - y_i)) $$\n",
        "\n",
        "2. Derivative with respect to 𝑐 :\n",
        "\n",
        "$$ \\frac{\\partial \\text{MSE}}{\\partial c} = \\frac{2}{N} \\sum_{i=0}^{N} (x_i^2(cx_i^2 + wx_i + b - y_i)) $$\n",
        "\n",
        "3. Derivative with respect to 𝑏 :\n",
        "\n",
        "$$ \\frac{\\partial \\text{MSE}}{\\partial b} = \\frac{2}{N} \\sum_{i=0}^{N} (cx_i^2 + wx_i + b - y_i) $$\n",
        "\n",
        "\n",
        "**Gradient Descent Algorithm:**\n",
        "```\n",
        "Repeat until converges:\n",
        "```\n",
        "1. Gradient Descent Algorithm for 𝑤 :\n",
        "\n",
        "$$ w = w - \\alpha \\frac{d}{dw} \\text{MSE}(w) $$\n",
        "\n",
        "2. Gradient Descent Algorithm for 𝑐 :\n",
        "\n",
        "$$ c = c - \\alpha \\frac{d}{dc} \\text{MSE}(w) $$\n",
        "\n",
        "3. Gradient Descent Algorithm for 𝑏 :\n",
        "\n",
        "$$ b = b - \\alpha \\frac{d}{db} \\text{MSE}(w) $$"
      ],
      "metadata": {
        "id": "sTQ46QsyyuYG"
      }
    },
    {
      "cell_type": "markdown",
      "source": [
        "## Implementation of the model"
      ],
      "metadata": {
        "id": "7bzYFCh5zIL4"
      }
    },
    {
      "cell_type": "code",
      "source": [
        "def polynomial_prediction(w, b, c, x):\n",
        "    return c * x**2 + w * x + b\n",
        "\n",
        "def cost_function(x, y, w, c, b):\n",
        "    N = x.size\n",
        "    return np.mean((polynomial_prediction(w, b, c, x) - y)**2)"
      ],
      "metadata": {
        "id": "EPZv6kMJzfk4"
      },
      "execution_count": null,
      "outputs": []
    },
    {
      "cell_type": "code",
      "source": [
        "def calculate_gradients(x, y, w, c, b):\n",
        "    N = x.size\n",
        "    residuals = polynomial_prediction(w, b, c, x) - y\n",
        "    dMSE_dw = (2/N) * np.sum(residuals * x)\n",
        "    dMSE_dc = (2/N) * np.sum(residuals * x**2)\n",
        "    dMSE_db = (2/N) * np.sum(residuals)\n",
        "    return dMSE_dw, dMSE_dc, dMSE_db"
      ],
      "metadata": {
        "id": "BwvRV8GQVM5f"
      },
      "execution_count": null,
      "outputs": []
    },
    {
      "cell_type": "code",
      "source": [
        "def gradient_descent(x, y, w_initial, c_initial, b_initial, learning_rate, iterations):\n",
        "    w, c, b = w_initial, c_initial, b_initial\n",
        "    cost_history = []\n",
        "    for _ in range(iterations):\n",
        "        dMSE_dw, dMSE_dc, dMSE_db = calculate_gradients(x, y, w, c, b)\n",
        "        w -= learning_rate * dMSE_dw\n",
        "        c -= learning_rate * dMSE_dc\n",
        "        b -= learning_rate * dMSE_db\n",
        "        cost_history.append(cost_function(x, y, w, c, b))\n",
        "    return w, c, b, cost_history"
      ],
      "metadata": {
        "id": "DRJFBQMcVOWj"
      },
      "execution_count": null,
      "outputs": []
    },
    {
      "cell_type": "code",
      "source": [
        "w_initial = 1\n",
        "c_initial = 1\n",
        "b_initial = 2\n",
        "learning_rate = 0.00001\n",
        "iterations = 20000"
      ],
      "metadata": {
        "id": "FaSWRtnLVURx"
      },
      "execution_count": null,
      "outputs": []
    },
    {
      "cell_type": "code",
      "source": [
        "w_optimal, c_optimal, b_optimal, cost_history = gradient_descent(x, y, w_initial, c_initial, b_initial, learning_rate, iterations)"
      ],
      "metadata": {
        "id": "bJgC12lYVbAb"
      },
      "execution_count": null,
      "outputs": []
    },
    {
      "cell_type": "code",
      "source": [
        "print('Optimal parameters after', iterations, 'iterations:', w_optimal, b_optimal, c_optimal)"
      ],
      "metadata": {
        "colab": {
          "base_uri": "https://localhost:8080/"
        },
        "id": "edprTJTQVfZ2",
        "outputId": "d1797930-0af5-4ddf-e851-8f376cf63f5d"
      },
      "execution_count": null,
      "outputs": [
        {
          "output_type": "stream",
          "name": "stdout",
          "text": [
            "Optimal parameters after 20000 iterations: -26267.66479223093 -3490.5230026650006 10281.871788599687\n"
          ]
        }
      ]
    },
    {
      "cell_type": "code",
      "source": [
        "plt.scatter(x, y, color = 'Lightcoral', label = 'Data', marker = '*', s = 100, alpha = 0.8)\n",
        "plt.plot(x, polynomial_prediction(w_optimal, b_optimal, c_optimal, x), label = 'Predicted', color = 'Pink')"
      ],
      "metadata": {
        "colab": {
          "base_uri": "https://localhost:8080/",
          "height": 462
        },
        "id": "4wgN3kfvVl_m",
        "outputId": "1770c51b-f2a8-4f08-e84d-51909d1cdeb7"
      },
      "execution_count": null,
      "outputs": [
        {
          "output_type": "execute_result",
          "data": {
            "text/plain": [
              "[<matplotlib.lines.Line2D at 0x7f6c98981180>]"
            ]
          },
          "metadata": {},
          "execution_count": 125
        },
        {
          "output_type": "display_data",
          "data": {
            "text/plain": [
              "<Figure size 640x480 with 1 Axes>"
            ],
            "image/png": "[encoded data removed]"
          },
          "metadata": {}
        }
      ]
    },
    {
      "cell_type": "code",
      "source": [
        "plt.figure()\n",
        "plt.plot(range(iterations), cost_history, color = 'Lightcoral')\n",
        "plt.xlabel('Iterations')\n",
        "plt.ylabel('Cost')\n",
        "plt.title('Iteration vs Cost')\n",
        "plt.legend()\n",
        "plt.show()"
      ],
      "metadata": {
        "colab": {
          "base_uri": "https://localhost:8080/",
          "height": 509
        },
        "id": "PSw-9MTpV240",
        "outputId": "f5f76c78-abf7-4ace-8003-c62cb2487714"
      },
      "execution_count": null,
      "outputs": [
        {
          "output_type": "stream",
          "name": "stderr",
          "text": [
            "WARNING:matplotlib.legend:No artists with labels found to put in legend.  Note that artists whose label start with an underscore are ignored when legend() is called with no argument.\n"
          ]
        },
        {
          "output_type": "display_data",
          "data": {
            "text/plain": [
              "<Figure size 640x480 with 1 Axes>"
            ],
            "image/png": "[encoded data removed]"
          },
          "metadata": {}
        }
      ]
    },
    {
      "cell_type": "code",
      "source": [
        "levels_to_predict = np.array([7, 8])\n",
        "predicted_salaries = polynomial_prediction(w_optimal, b_optimal, c_optimal, levels_to_predict)\n",
        "print(\"Predicted salaries for levels 7 and 8:\")\n",
        "for salary in predicted_salaries:\n",
        "    print(round(salary))"
      ],
      "metadata": {
        "colab": {
          "base_uri": "https://localhost:8080/"
        },
        "id": "gnDQZkDeV95w",
        "outputId": "91912ee5-e7d5-47a3-c97f-9830fcdb056b"
      },
      "execution_count": null,
      "outputs": [
        {
          "output_type": "stream",
          "name": "stdout",
          "text": [
            "Predicted salaries for levels 7 and 8:\n",
            "316448\n",
            "444408\n"
          ]
        }
      ]
    },
    {
      "cell_type": "code",
      "source": [
        "plt.scatter(x, y, color = 'Lightcoral', label = 'Data', marker = '*', s = 100, alpha = 0.8)\n",
        "plt.plot(levels_to_predict, predicted_salaries, label = 'Predicted', color = 'Pink')\n",
        "plt.xlabel('x')\n",
        "plt.ylabel('y')\n",
        "plt.title('Plot of result')\n",
        "plt.legend()\n",
        "plt.show()"
      ],
      "metadata": {
        "colab": {
          "base_uri": "https://localhost:8080/",
          "height": 472
        },
        "id": "HnWW9IV1WG6o",
        "outputId": "6f12beac-1cdf-41da-aa75-3a62ca0f3844"
      },
      "execution_count": null,
      "outputs": [
        {
          "output_type": "display_data",
          "data": {
            "text/plain": [
              "<Figure size 640x480 with 1 Axes>"
            ],
            "image/png": "[encoded data removed]"
          },
          "metadata": {}
        }
      ]
    },
    {
      "cell_type": "code",
      "source": [
        "y_pred = polynomial_prediction(w_optimal, b_optimal, c_optimal, x)\n",
        "SST = np.sum((y - np.mean(y)) ** 2)\n",
        "SSE = np.sum((y - y_pred) ** 2)\n",
        "r2 = 1 - (SSE / SST)\n",
        "print(\"Calculated R-squared:\", r2)"
      ],
      "metadata": {
        "colab": {
          "base_uri": "https://localhost:8080/"
        },
        "id": "4QhbzwouWZkP",
        "outputId": "8072d5a0-d27c-4c09-f353-77854a3e7ded"
      },
      "execution_count": null,
      "outputs": [
        {
          "output_type": "stream",
          "name": "stdout",
          "text": [
            "Calculated R-squared: 0.8577475766510733\n"
          ]
        }
      ]
    },
    {
      "cell_type": "markdown",
      "source": [
        "### Answer the following\n",
        "\n",
        "* What is learning rate?\n",
        "> The learning rate, a hyperparameter in machine learning algorithms, determines the magnitude of steps taken during optimization, especially in gradient-based methods like gradient descent.\n",
        "\n",
        "* What will happen if the learning rate is too large?\n",
        "> When the learning rate is excessively high, the optimization may overshoot the minimum of the loss function, leading to divergence where the loss increases instead of decreasing over time.\n",
        "\n",
        "* What will happen if the learning rate is too small?\n",
        "> With a learning rate of 0.00001, which we have obtained from the model, the optimization process progresses gradually but steadily towards the minimum point. However, this may result in slow convergence, extending the training duration and potentially leading to inefficiency in finding the optimal solution.\n",
        "\n",
        "* If you what to change the second order (quadratic) model to third order model what all things will change in the above code?\n",
        "> *   Adjust the cost function calculation to handle the third-order model.\n",
        "> *   Assess the model complexity and potential overfitting with the addition of higher-order terms.\n",
        "> *   Update the gradient calculation function to account for the third-order terms.\n",
        "> *   Perform validation and evaluation of the third-order model to ensure its effectiveness.\n",
        "> *   Investigate alternative regression algorithms or ensemble methods that may better handle the nonlinear relationships captured by higher-order polynomial models."
      ],
      "metadata": {
        "id": "qhvdbzMx0P-B"
      }
    }
  ]
}